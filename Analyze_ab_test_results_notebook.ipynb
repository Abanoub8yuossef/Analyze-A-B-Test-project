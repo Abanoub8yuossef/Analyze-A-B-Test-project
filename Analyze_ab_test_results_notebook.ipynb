{
 "cells": [
  {
   "cell_type": "markdown",
   "metadata": {},
   "source": [
    "## Analyze A/B Test Results\n",
    "\n",
    "This project will assure you have mastered the subjects covered in the statistics lessons.  The hope is to have this project be as comprehensive of these topics as possible.  Good luck!\n",
    "\n",
    "## Table of Contents\n",
    "- [Introduction](#intro)\n",
    "- [Part I - Probability](#probability)\n",
    "- [Part II - A/B Test](#ab_test)\n",
    "- [Part III - Regression](#regression)\n",
    "\n",
    "\n",
    "<a id='intro'></a>\n",
    "### Introduction\n",
    "\n",
    "A/B tests are very commonly performed by data analysts and data scientists.  It is important that you get some practice working with the difficulties of these \n",
    "\n",
    "For this project, you will be working to understand the results of an A/B test run by an e-commerce website.  Your goal is to work through this notebook to help the company understand if they should implement the new page, keep the old page, or perhaps run the experiment longer to make their decision.\n",
    "\n",
    "**As you work through this notebook, follow along in the classroom and answer the corresponding quiz questions associated with each question.** The labels for each classroom concept are provided for each question.  This will assure you are on the right track as you work through the project, and you can feel more confident in your final submission meeting the criteria.  As a final check, assure you meet all the criteria on the [RUBRIC](https://review.udacity.com/#!/projects/37e27304-ad47-4eb0-a1ab-8c12f60e43d0/rubric).\n",
    "\n",
    "<a id='probability'></a>\n",
    "#### Part I - Probability\n",
    "\n",
    "To get started, let's import our libraries."
   ]
  },
  {
   "cell_type": "code",
   "execution_count": 2,
   "metadata": {},
   "outputs": [],
   "source": [
    "import pandas as pd\n",
    "import numpy as np\n",
    "import random\n",
    "import matplotlib.pyplot as plt\n",
    "%matplotlib inline\n",
    "#We are setting the seed to assure you get the same answers on quizzes as we set up\n",
    "random.seed(42)"
   ]
  },
  {
   "cell_type": "markdown",
   "metadata": {},
   "source": [
    "`1.` Now, read in the `ab_data.csv` data. Store it in `df`.  **Use your dataframe to answer the questions in Quiz 1 of the classroom.**\n",
    "\n",
    "a. Read in the dataset and take a look at the top few rows here:"
   ]
  },
  {
   "cell_type": "code",
   "execution_count": 3,
   "metadata": {},
   "outputs": [
    {
     "data": {
      "text/html": [
       "<div>\n",
       "<style scoped>\n",
       "    .dataframe tbody tr th:only-of-type {\n",
       "        vertical-align: middle;\n",
       "    }\n",
       "\n",
       "    .dataframe tbody tr th {\n",
       "        vertical-align: top;\n",
       "    }\n",
       "\n",
       "    .dataframe thead th {\n",
       "        text-align: right;\n",
       "    }\n",
       "</style>\n",
       "<table border=\"1\" class=\"dataframe\">\n",
       "  <thead>\n",
       "    <tr style=\"text-align: right;\">\n",
       "      <th></th>\n",
       "      <th>user_id</th>\n",
       "      <th>timestamp</th>\n",
       "      <th>group</th>\n",
       "      <th>landing_page</th>\n",
       "      <th>converted</th>\n",
       "    </tr>\n",
       "  </thead>\n",
       "  <tbody>\n",
       "    <tr>\n",
       "      <th>0</th>\n",
       "      <td>851104</td>\n",
       "      <td>2017-01-21 22:11:48.556739</td>\n",
       "      <td>control</td>\n",
       "      <td>old_page</td>\n",
       "      <td>0</td>\n",
       "    </tr>\n",
       "    <tr>\n",
       "      <th>1</th>\n",
       "      <td>804228</td>\n",
       "      <td>2017-01-12 08:01:45.159739</td>\n",
       "      <td>control</td>\n",
       "      <td>old_page</td>\n",
       "      <td>0</td>\n",
       "    </tr>\n",
       "    <tr>\n",
       "      <th>2</th>\n",
       "      <td>661590</td>\n",
       "      <td>2017-01-11 16:55:06.154213</td>\n",
       "      <td>treatment</td>\n",
       "      <td>new_page</td>\n",
       "      <td>0</td>\n",
       "    </tr>\n",
       "    <tr>\n",
       "      <th>3</th>\n",
       "      <td>853541</td>\n",
       "      <td>2017-01-08 18:28:03.143765</td>\n",
       "      <td>treatment</td>\n",
       "      <td>new_page</td>\n",
       "      <td>0</td>\n",
       "    </tr>\n",
       "    <tr>\n",
       "      <th>4</th>\n",
       "      <td>864975</td>\n",
       "      <td>2017-01-21 01:52:26.210827</td>\n",
       "      <td>control</td>\n",
       "      <td>old_page</td>\n",
       "      <td>1</td>\n",
       "    </tr>\n",
       "  </tbody>\n",
       "</table>\n",
       "</div>"
      ],
      "text/plain": [
       "   user_id                   timestamp      group landing_page  converted\n",
       "0   851104  2017-01-21 22:11:48.556739    control     old_page          0\n",
       "1   804228  2017-01-12 08:01:45.159739    control     old_page          0\n",
       "2   661590  2017-01-11 16:55:06.154213  treatment     new_page          0\n",
       "3   853541  2017-01-08 18:28:03.143765  treatment     new_page          0\n",
       "4   864975  2017-01-21 01:52:26.210827    control     old_page          1"
      ]
     },
     "execution_count": 3,
     "metadata": {},
     "output_type": "execute_result"
    }
   ],
   "source": [
    "#reading the CSV file\n",
    "df=pd.read_csv(\"ab_data.csv\")\n",
    "df.head()"
   ]
  },
  {
   "cell_type": "code",
   "execution_count": 4,
   "metadata": {},
   "outputs": [
    {
     "data": {
      "text/plain": [
       "(array(['control', 'treatment'], dtype=object),\n",
       " array(['old_page', 'new_page'], dtype=object),\n",
       " array([0, 1], dtype=int64))"
      ]
     },
     "execution_count": 4,
     "metadata": {},
     "output_type": "execute_result"
    }
   ],
   "source": [
    "# knowing the unique values for each column\n",
    "df.group.unique(), df.landing_page.unique(), df.converted.unique()"
   ]
  },
  {
   "cell_type": "markdown",
   "metadata": {},
   "source": [
    "b. Use the below cell to find the number of rows in the dataset."
   ]
  },
  {
   "cell_type": "code",
   "execution_count": 5,
   "metadata": {},
   "outputs": [
    {
     "data": {
      "text/plain": [
       "294478"
      ]
     },
     "execution_count": 5,
     "metadata": {},
     "output_type": "execute_result"
    }
   ],
   "source": [
    "df.shape[0]"
   ]
  },
  {
   "cell_type": "markdown",
   "metadata": {},
   "source": [
    "c. The number of unique users in the dataset."
   ]
  },
  {
   "cell_type": "code",
   "execution_count": 7,
   "metadata": {},
   "outputs": [
    {
     "data": {
      "text/plain": [
       "290584"
      ]
     },
     "execution_count": 7,
     "metadata": {},
     "output_type": "execute_result"
    }
   ],
   "source": [
    "unique_in_df=df.user_id.unique().shape[0]\n",
    "unique_in_df"
   ]
  },
  {
   "cell_type": "markdown",
   "metadata": {
    "collapsed": true
   },
   "source": [
    "d. The proportion of users converted."
   ]
  },
  {
   "cell_type": "code",
   "execution_count": 9,
   "metadata": {},
   "outputs": [
    {
     "data": {
      "text/plain": [
       "0.12104245244060237"
      ]
     },
     "execution_count": 9,
     "metadata": {},
     "output_type": "execute_result"
    }
   ],
   "source": [
    "unique_converted=df.query(\"converted==1\").user_id.unique().shape[0]\n",
    "portion_of_user_converted=unique_converted/unique_in_df\n",
    "portion_of_user_converted"
   ]
  },
  {
   "cell_type": "markdown",
   "metadata": {
    "collapsed": true
   },
   "source": [
    "e. The number of times the `new_page` and `treatment` don't line up."
   ]
  },
  {
   "cell_type": "code",
   "execution_count": 11,
   "metadata": {},
   "outputs": [
    {
     "data": {
      "text/plain": [
       "3893"
      ]
     },
     "execution_count": 11,
     "metadata": {},
     "output_type": "execute_result"
    }
   ],
   "source": [
    "new_page_not_treatment=df.query(\"landing_page=='new_page' and group!='treatment'\")\n",
    "old_page_and_treatment=df.query(\"landing_page=='old_page' and group=='treatment'\")\n",
    "new_page_not_treatment.shape[0]+old_page_and_treatment.shape[0]"
   ]
  },
  {
   "cell_type": "markdown",
   "metadata": {},
   "source": [
    "f. Do any of the rows have missing values?"
   ]
  },
  {
   "cell_type": "code",
   "execution_count": 12,
   "metadata": {},
   "outputs": [
    {
     "name": "stdout",
     "output_type": "stream",
     "text": [
      "<class 'pandas.core.frame.DataFrame'>\n",
      "RangeIndex: 294478 entries, 0 to 294477\n",
      "Data columns (total 5 columns):\n",
      " #   Column        Non-Null Count   Dtype \n",
      "---  ------        --------------   ----- \n",
      " 0   user_id       294478 non-null  int64 \n",
      " 1   timestamp     294478 non-null  object\n",
      " 2   group         294478 non-null  object\n",
      " 3   landing_page  294478 non-null  object\n",
      " 4   converted     294478 non-null  int64 \n",
      "dtypes: int64(2), object(3)\n",
      "memory usage: 11.2+ MB\n"
     ]
    }
   ],
   "source": [
    "df.info()\n",
    "# there is no missing values"
   ]
  },
  {
   "cell_type": "markdown",
   "metadata": {},
   "source": [
    "`2.` For the rows where **treatment** is not aligned with **new_page** or **control** is not aligned with **old_page**, we cannot be sure if this row truly received the new or old page.  Use **Quiz 2** in the classroom to provide how we should handle these rows.  \n",
    "\n",
    "a. Now use the answer to the quiz to create a new dataset that meets the specifications from the quiz.  Store your new dataframe in **df2**."
   ]
  },
  {
   "cell_type": "code",
   "execution_count": 18,
   "metadata": {},
   "outputs": [
    {
     "data": {
      "text/plain": [
       "290585"
      ]
     },
     "execution_count": 18,
     "metadata": {},
     "output_type": "execute_result"
    }
   ],
   "source": [
    "#removing the rows where treatment dose not match with new_page\n",
    "# or control dose not match with old_page\n",
    "df2=df.drop(new_page_not_treatment.index)\n",
    "df2=df2.drop(old_page_and_treatment.index)\n",
    "df2.shape[0]"
   ]
  },
  {
   "cell_type": "code",
   "execution_count": 16,
   "metadata": {},
   "outputs": [
    {
     "data": {
      "text/plain": [
       "0"
      ]
     },
     "execution_count": 16,
     "metadata": {},
     "output_type": "execute_result"
    }
   ],
   "source": [
    "# Double Check all of the correct rows were removed - this should be 0\n",
    "df2[((df2['group'] == 'treatment') == (df2['landing_page'] == 'new_page')) == False].shape[0]"
   ]
  },
  {
   "cell_type": "markdown",
   "metadata": {},
   "source": [
    "`3.` Use **df2** and the cells below to answer questions for **Quiz3** in the classroom."
   ]
  },
  {
   "cell_type": "markdown",
   "metadata": {},
   "source": [
    "a. How many unique **user_id**s are in **df2**?"
   ]
  },
  {
   "cell_type": "code",
   "execution_count": 17,
   "metadata": {},
   "outputs": [
    {
     "data": {
      "text/plain": [
       "290584"
      ]
     },
     "execution_count": 17,
     "metadata": {},
     "output_type": "execute_result"
    }
   ],
   "source": [
    "df.user_id.unique().shape[0]"
   ]
  },
  {
   "cell_type": "markdown",
   "metadata": {
    "collapsed": true
   },
   "source": [
    "b. There is one **user_id** repeated in **df2**.  What is it?"
   ]
  },
  {
   "cell_type": "code",
   "execution_count": 25,
   "metadata": {},
   "outputs": [
    {
     "data": {
      "text/html": [
       "<div>\n",
       "<style scoped>\n",
       "    .dataframe tbody tr th:only-of-type {\n",
       "        vertical-align: middle;\n",
       "    }\n",
       "\n",
       "    .dataframe tbody tr th {\n",
       "        vertical-align: top;\n",
       "    }\n",
       "\n",
       "    .dataframe thead th {\n",
       "        text-align: right;\n",
       "    }\n",
       "</style>\n",
       "<table border=\"1\" class=\"dataframe\">\n",
       "  <thead>\n",
       "    <tr style=\"text-align: right;\">\n",
       "      <th></th>\n",
       "      <th>user_id</th>\n",
       "      <th>timestamp</th>\n",
       "      <th>group</th>\n",
       "      <th>landing_page</th>\n",
       "      <th>converted</th>\n",
       "    </tr>\n",
       "  </thead>\n",
       "  <tbody>\n",
       "    <tr>\n",
       "      <th>2893</th>\n",
       "      <td>773192</td>\n",
       "      <td>2017-01-14 02:55:59.590927</td>\n",
       "      <td>treatment</td>\n",
       "      <td>new_page</td>\n",
       "      <td>0</td>\n",
       "    </tr>\n",
       "  </tbody>\n",
       "</table>\n",
       "</div>"
      ],
      "text/plain": [
       "      user_id                   timestamp      group landing_page  converted\n",
       "2893   773192  2017-01-14 02:55:59.590927  treatment     new_page          0"
      ]
     },
     "execution_count": 25,
     "metadata": {},
     "output_type": "execute_result"
    }
   ],
   "source": [
    "#finding the repeted user_id in df2\n",
    "df2[df2.duplicated([\"user_id\"])]"
   ]
  },
  {
   "cell_type": "markdown",
   "metadata": {},
   "source": [
    "c. What is the row information for the repeat **user_id**? "
   ]
  },
  {
   "cell_type": "markdown",
   "metadata": {
    "collapsed": true
   },
   "source": [
    "the user_id of the duplicated row is 773192 as you can see above"
   ]
  },
  {
   "cell_type": "markdown",
   "metadata": {},
   "source": [
    "d. Remove **one** of the rows with a duplicate **user_id**, but keep your dataframe as **df2**."
   ]
  },
  {
   "cell_type": "code",
   "execution_count": 28,
   "metadata": {},
   "outputs": [
    {
     "data": {
      "text/plain": [
       "290584"
      ]
     },
     "execution_count": 28,
     "metadata": {},
     "output_type": "execute_result"
    }
   ],
   "source": [
    "df2.drop_duplicates([\"user_id\"],inplace=True)\n",
    "df2.shape[0]"
   ]
  },
  {
   "cell_type": "markdown",
   "metadata": {},
   "source": [
    "`4.` Use **df2** in the below cells to answer the quiz questions related to **Quiz 4** in the classroom.\n",
    "\n",
    "a. What is the probability of an individual converting regardless of the page they receive?"
   ]
  },
  {
   "cell_type": "code",
   "execution_count": 29,
   "metadata": {},
   "outputs": [
    {
     "data": {
      "text/plain": [
       "0.11959708724499628"
      ]
     },
     "execution_count": 29,
     "metadata": {},
     "output_type": "execute_result"
    }
   ],
   "source": [
    "df2.converted.mean()"
   ]
  },
  {
   "cell_type": "markdown",
   "metadata": {},
   "source": [
    "b. Given that an individual was in the `control` group, what is the probability they converted?"
   ]
  },
  {
   "cell_type": "code",
   "execution_count": 30,
   "metadata": {},
   "outputs": [
    {
     "data": {
      "text/plain": [
       "0.1203863045004612"
      ]
     },
     "execution_count": 30,
     "metadata": {},
     "output_type": "execute_result"
    }
   ],
   "source": [
    "#first making a data frame of control group only\n",
    "df_control=df2.query(\"group=='control'\")\n",
    "\n",
    "#second applying a filter using query to know the probability\n",
    "df_control.query(\"converted==1\").user_id.unique().shape[0]/df_control.shape[0]"
   ]
  },
  {
   "cell_type": "markdown",
   "metadata": {},
   "source": [
    "c. Given that an individual was in the `treatment` group, what is the probability they converted?"
   ]
  },
  {
   "cell_type": "code",
   "execution_count": 31,
   "metadata": {},
   "outputs": [
    {
     "data": {
      "text/plain": [
       "0.11880806551510564"
      ]
     },
     "execution_count": 31,
     "metadata": {},
     "output_type": "execute_result"
    }
   ],
   "source": [
    "# we will apply the same steps as (b)\n",
    "df_treatment=df2.query(\"group=='treatment'\")\n",
    "df_treatment.query(\"converted==1\").user_id.unique().shape[0]/df_treatment.shape[0]\n"
   ]
  },
  {
   "cell_type": "markdown",
   "metadata": {},
   "source": [
    "d. What is the probability that an individual received the new page?"
   ]
  },
  {
   "cell_type": "code",
   "execution_count": 32,
   "metadata": {},
   "outputs": [
    {
     "data": {
      "text/plain": [
       "0.5000619442226688"
      ]
     },
     "execution_count": 32,
     "metadata": {},
     "output_type": "execute_result"
    }
   ],
   "source": [
    "# we will apply a filter using query \n",
    "df2.query(\"landing_page=='new_page'\").user_id.unique().shape[0]/df2.shape[0]"
   ]
  },
  {
   "cell_type": "code",
   "execution_count": 33,
   "metadata": {},
   "outputs": [
    {
     "data": {
      "text/plain": [
       "(145310, 145274)"
      ]
     },
     "execution_count": 33,
     "metadata": {},
     "output_type": "execute_result"
    }
   ],
   "source": [
    "#counts of individuals received new_page and old_page\n",
    "df2.query(\"landing_page=='new_page'\").shape[0],df2.query(\"landing_page=='old_page'\").shape[0]"
   ]
  },
  {
   "cell_type": "markdown",
   "metadata": {},
   "source": [
    "e. Consider your results from a. through d. above, and explain below whether you think there is sufficient evidence to say that the new treatment page leads to more conversions."
   ]
  },
  {
   "cell_type": "markdown",
   "metadata": {},
   "source": [
    "**Answer.** \n",
    "\n",
    "    1. the users who received the new_page are almost equal to the users who received the old-page so the test is performed well.\n",
    "    2. 0.12 of the population who received old_page were converted, and 0.1188 of the pobulatoin who received the new_page were converted.\n",
    "    \n",
    "#### So the answer is : No, there is no sufficent evidacne to say that the new_page leads to more convertion."
   ]
  },
  {
   "cell_type": "markdown",
   "metadata": {},
   "source": [
    "<a id='ab_test'></a>\n",
    "### Part II - A/B Test\n",
    "\n",
    "Notice that because of the time stamp associated with each event, you could technically run a hypothesis test continuously as each observation was observed.  \n",
    "\n",
    "However, then the hard question is do you stop as soon as one page is considered significantly better than another or does it need to happen consistently for a certain amount of time?  How long do you run to render a decision that neither page is better than another?  \n",
    "\n",
    "These questions are the difficult parts associated with A/B tests in general.  \n",
    "\n",
    "\n",
    "`1.` For now, consider you need to make the decision just based on all the data provided.  If you want to assume that the old page is better unless the new page proves to be definitely better at a Type I error rate of 5%, what should your null and alternative hypotheses be?  You can state your hypothesis in terms of words or in terms of **$p_{old}$** and **$p_{new}$**, which are the converted rates for the old and new pages."
   ]
  },
  {
   "cell_type": "markdown",
   "metadata": {},
   "source": [
    "**Answer.**\n",
    "\n",
    "**null_hypothesis:** H0: converted_rate_new <= converted_rate_old\n",
    "\n",
    "**alternative_hypothesis:** H1: converted_rate_new > converted_rate_old"
   ]
  },
  {
   "cell_type": "markdown",
   "metadata": {},
   "source": [
    "`2.` Assume under the null hypothesis, $p_{new}$ and $p_{old}$ both have \"true\" success rates equal to the **converted** success rate regardless of page - that is $p_{new}$ and $p_{old}$ are equal. Furthermore, assume they are equal to the **converted** rate in **ab_data.csv** regardless of the page. <br><br>\n",
    "\n",
    "Use a sample size for each page equal to the ones in **ab_data.csv**.  <br><br>\n",
    "\n",
    "Perform the sampling distribution for the difference in **converted** between the two pages over 10,000 iterations of calculating an estimate from the null.  <br><br>\n",
    "\n",
    "Use the cells below to provide the necessary parts of this simulation.  If this doesn't make complete sense right now, don't worry - you are going to work through the problems below to complete this problem.  You can use **Quiz 5** in the classroom to make sure you are on the right track.<br><br>"
   ]
  },
  {
   "cell_type": "markdown",
   "metadata": {},
   "source": [
    "a. What is the **convert rate** for $p_{new}$ under the null? "
   ]
  },
  {
   "cell_type": "code",
   "execution_count": 46,
   "metadata": {},
   "outputs": [
    {
     "data": {
      "text/plain": [
       "0.11965919355605512"
      ]
     },
     "execution_count": 46,
     "metadata": {},
     "output_type": "execute_result"
    }
   ],
   "source": [
    "# as we assumed that under the null the convertion \n",
    "# rate of old_page and new_page are equal and will calculated \n",
    "# from the original dataset regardless of the page\n",
    "old_conversion_rate=df.converted.mean()\n",
    "old_conversion_rate"
   ]
  },
  {
   "cell_type": "markdown",
   "metadata": {},
   "source": [
    "b. What is the **convert rate** for $p_{old}$ under the null? <br><br>"
   ]
  },
  {
   "cell_type": "code",
   "execution_count": 47,
   "metadata": {},
   "outputs": [
    {
     "data": {
      "text/plain": [
       "0.11965919355605512"
      ]
     },
     "execution_count": 47,
     "metadata": {},
     "output_type": "execute_result"
    }
   ],
   "source": [
    "#the new_conversion_rate is equal to old_conversion_rate\n",
    "new_conversion_rate=old_conversion_rate\n",
    "new_conversion_rate"
   ]
  },
  {
   "cell_type": "markdown",
   "metadata": {},
   "source": [
    "c. What is $n_{new}$?"
   ]
  },
  {
   "cell_type": "code",
   "execution_count": 48,
   "metadata": {},
   "outputs": [
    {
     "name": "stderr",
     "output_type": "stream",
     "text": [
      "<ipython-input-48-fb20fb611944>:3: SettingWithCopyWarning: \n",
      "A value is trying to be set on a copy of a slice from a DataFrame\n",
      "\n",
      "See the caveats in the documentation: https://pandas.pydata.org/pandas-docs/stable/user_guide/indexing.html#returning-a-view-versus-a-copy\n",
      "  df_treatment.drop_duplicates([\"user_id\"],inplace=True)\n"
     ]
    },
    {
     "data": {
      "text/plain": [
       "145310"
      ]
     },
     "execution_count": 48,
     "metadata": {},
     "output_type": "execute_result"
    }
   ],
   "source": [
    "# the number of new pages calculated after removed duplicates from df2\n",
    "df_treatment=df2.query(\"group=='treatment'\")\n",
    "df_treatment.drop_duplicates([\"user_id\"],inplace=True)\n",
    "df_treatment.shape[0]"
   ]
  },
  {
   "cell_type": "markdown",
   "metadata": {},
   "source": [
    "d. What is $n_{old}$?"
   ]
  },
  {
   "cell_type": "code",
   "execution_count": 49,
   "metadata": {},
   "outputs": [
    {
     "name": "stderr",
     "output_type": "stream",
     "text": [
      "<ipython-input-49-c7377bc729b4>:2: SettingWithCopyWarning: \n",
      "A value is trying to be set on a copy of a slice from a DataFrame\n",
      "\n",
      "See the caveats in the documentation: https://pandas.pydata.org/pandas-docs/stable/user_guide/indexing.html#returning-a-view-versus-a-copy\n",
      "  df_control.drop_duplicates([\"user_id\"],inplace=True)\n"
     ]
    },
    {
     "data": {
      "text/plain": [
       "145274"
      ]
     },
     "execution_count": 49,
     "metadata": {},
     "output_type": "execute_result"
    }
   ],
   "source": [
    "df_control=df2.query(\"group=='control'\")\n",
    "df_control.drop_duplicates([\"user_id\"],inplace=True)\n",
    "df_control.shape[0]"
   ]
  },
  {
   "cell_type": "markdown",
   "metadata": {},
   "source": [
    "e. Simulate $n_{new}$ transactions with a convert rate of $p_{new}$ under the null.  Store these $n_{new}$ 1's and 0's in **new_page_converted**."
   ]
  },
  {
   "cell_type": "code",
   "execution_count": 52,
   "metadata": {},
   "outputs": [
    {
     "data": {
      "text/plain": [
       "0.11880806551510564"
      ]
     },
     "execution_count": 52,
     "metadata": {},
     "output_type": "execute_result"
    }
   ],
   "source": [
    "new_page_converted=df_treatment.query(\"converted==1\").shape[0]/df_treatment.shape[0]\n",
    "new_page_converted"
   ]
  },
  {
   "cell_type": "markdown",
   "metadata": {},
   "source": [
    "f. Simulate $n_{old}$ transactions with a convert rate of $p_{old}$ under the null.  Store these $n_{old}$ 1's and 0's in **old_page_converted**."
   ]
  },
  {
   "cell_type": "code",
   "execution_count": 54,
   "metadata": {},
   "outputs": [
    {
     "data": {
      "text/plain": [
       "0.1203863045004612"
      ]
     },
     "execution_count": 54,
     "metadata": {},
     "output_type": "execute_result"
    }
   ],
   "source": [
    "old_page_converted=df_control.query(\"converted==1\").shape[0]/df_control.shape[0]\n",
    "old_page_converted"
   ]
  },
  {
   "cell_type": "markdown",
   "metadata": {},
   "source": [
    "g. Find $p_{new}$ - $p_{old}$ for your simulated values from part (e) and (f)."
   ]
  },
  {
   "cell_type": "code",
   "execution_count": 55,
   "metadata": {},
   "outputs": [
    {
     "data": {
      "text/plain": [
       "-0.0015782389853555567"
      ]
     },
     "execution_count": 55,
     "metadata": {},
     "output_type": "execute_result"
    }
   ],
   "source": [
    "observation_diff=new_page_converted-old_page_converted\n",
    "observation_diff"
   ]
  },
  {
   "cell_type": "markdown",
   "metadata": {},
   "source": [
    "h. Simulate 10,000 $p_{new}$ - $p_{old}$ values using this same process similarly to the one you calculated in parts **a. through g.** above.  Store all 10,000 values in a numpy array called **p_diffs**."
   ]
  },
  {
   "cell_type": "code",
   "execution_count": 56,
   "metadata": {
    "scrolled": true
   },
   "outputs": [
    {
     "name": "stderr",
     "output_type": "stream",
     "text": [
      "<ipython-input-56-36816b860b02>:6: SettingWithCopyWarning: \n",
      "A value is trying to be set on a copy of a slice from a DataFrame\n",
      "\n",
      "See the caveats in the documentation: https://pandas.pydata.org/pandas-docs/stable/user_guide/indexing.html#returning-a-view-versus-a-copy\n",
      "  df_treatment.drop_duplicates([\"user_id\"],inplace=True)\n",
      "<ipython-input-56-36816b860b02>:8: SettingWithCopyWarning: \n",
      "A value is trying to be set on a copy of a slice from a DataFrame\n",
      "\n",
      "See the caveats in the documentation: https://pandas.pydata.org/pandas-docs/stable/user_guide/indexing.html#returning-a-view-versus-a-copy\n",
      "  df_control.drop_duplicates([\"user_id\"],inplace=True)\n"
     ]
    },
    {
     "data": {
      "text/plain": [
       "-0.0019670945755630113"
      ]
     },
     "execution_count": 56,
     "metadata": {},
     "output_type": "execute_result"
    }
   ],
   "source": [
    "p_diff=[]\n",
    "sample=df2.sample(df.shape[0],replace=True)\n",
    "for _ in range(10000):\n",
    "    b_sample=sample.sample(10000,replace=True)\n",
    "    df_treatment=b_sample.query(\"group=='treatment'\")\n",
    "    df_treatment.drop_duplicates([\"user_id\"],inplace=True)\n",
    "    df_control=b_sample.query(\"group=='control'\")\n",
    "    df_control.drop_duplicates([\"user_id\"],inplace=True)\n",
    "    new_page_converted=df_treatment.query(\"converted==1\").shape[0]/df_treatment.shape[0]\n",
    "    old_page_converted=df_control.query(\"converted==1\").shape[0]/df_control.shape[0]\n",
    "    p_diff.append(new_page_converted-old_page_converted)\n",
    "    \n",
    "p_diff=np.array(p_diff)\n",
    "p_diff.mean()"
   ]
  },
  {
   "cell_type": "code",
   "execution_count": 61,
   "metadata": {},
   "outputs": [
    {
     "data": {
      "text/plain": [
       "0.006503762103958446"
      ]
     },
     "execution_count": 61,
     "metadata": {},
     "output_type": "execute_result"
    }
   ],
   "source": [
    "p_diff.std()"
   ]
  },
  {
   "cell_type": "markdown",
   "metadata": {},
   "source": [
    "i. Plot a histogram of the **p_diffs**.  Does this plot look like what you expected?  Use the matching problem in the classroom to assure you fully understand what was computed here."
   ]
  },
  {
   "cell_type": "code",
   "execution_count": 59,
   "metadata": {},
   "outputs": [
    {
     "data": {
      "image/png": "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\n",
      "text/plain": [
       "<Figure size 432x288 with 1 Axes>"
      ]
     },
     "metadata": {
      "needs_background": "light"
     },
     "output_type": "display_data"
    }
   ],
   "source": [
    "plt.hist(p_diff);\n",
    "plt.xlabel(\"p_diff\");\n",
    "plt.ylabel(\"Frequency\");\n",
    "plt.title(\"simulation of diff in conversion rate from sampling distribution \");"
   ]
  },
  {
   "cell_type": "code",
   "execution_count": 72,
   "metadata": {},
   "outputs": [
    {
     "data": {
      "image/png": "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\n",
      "text/plain": [
       "<Figure size 432x288 with 1 Axes>"
      ]
     },
     "metadata": {
      "needs_background": "light"
     },
     "output_type": "display_data"
    }
   ],
   "source": [
    "# ploting the null distribution with the same std as the sampling distribution \n",
    "null_value=np.random.normal(0,p_diff.std(),10000)\n",
    "plt.hist(null_value);\n",
    "plt.axvline(x=observation_diff,color=\"r\",label=\"observation_diff\");\n",
    "plt.legend();\n",
    "plt.title(\"observation difference in the distribution of the null hypothesis\");\n",
    "plt.ylabel(\"Frequency\");"
   ]
  },
  {
   "cell_type": "markdown",
   "metadata": {},
   "source": [
    "j. What proportion of the **p_diffs** are greater than the actual difference observed in **ab_data.csv**?"
   ]
  },
  {
   "cell_type": "code",
   "execution_count": 73,
   "metadata": {},
   "outputs": [
    {
     "data": {
      "text/plain": [
       "0.6076"
      ]
     },
     "execution_count": 73,
     "metadata": {},
     "output_type": "execute_result"
    }
   ],
   "source": [
    "# counting the p_value\n",
    "(null_value > observation_diff).mean()"
   ]
  },
  {
   "cell_type": "markdown",
   "metadata": {},
   "source": [
    "k. In words, explain what you just computed in part **j.**  What is this value called in scientific studies?  What does this value mean in terms of whether or not there is a difference between the new and old pages?"
   ]
  },
  {
   "cell_type": "markdown",
   "metadata": {},
   "source": [
    "**Answer.** as the p_value is grater than the type one error 5% we don't have sufficent evedence to reject the null hypothesis"
   ]
  },
  {
   "cell_type": "markdown",
   "metadata": {},
   "source": [
    "l. We could also use a built-in to achieve similar results.  Though using the built-in might be easier to code, the above portions are a walkthrough of the ideas that are critical to correctly thinking about statistical significance. Fill in the below to calculate the number of conversions for each page, as well as the number of individuals who received each page. Let `n_old` and `n_new` refer the the number of rows associated with the old page and new pages, respectively."
   ]
  },
  {
   "cell_type": "code",
   "execution_count": 95,
   "metadata": {},
   "outputs": [],
   "source": [
    "import statsmodels.api as sm\n",
    "\n",
    "old_df=df2.query(\"landing_page=='old_page'\")\n",
    "new_df=df2.query(\"landing_page=='new_page'\")\n",
    "\n",
    "convert_old = old_df.converted.sum()\n",
    "convert_new = new_df.converted.sum()\n",
    "n_old = old_df.shape[0]\n",
    "n_new = new_df.shape[0]"
   ]
  },
  {
   "cell_type": "code",
   "execution_count": 96,
   "metadata": {},
   "outputs": [
    {
     "data": {
      "text/plain": [
       "(17489, 17264, 145274, 145310)"
      ]
     },
     "execution_count": 96,
     "metadata": {},
     "output_type": "execute_result"
    }
   ],
   "source": [
    "convert_old,convert_new,n_old,n_new"
   ]
  },
  {
   "cell_type": "markdown",
   "metadata": {},
   "source": [
    "m. Now use `stats.proportions_ztest` to compute your test statistic and p-value.  [Here](http://knowledgetack.com/python/statsmodels/proportions_ztest/) is a helpful link on using the built in."
   ]
  },
  {
   "cell_type": "code",
   "execution_count": 105,
   "metadata": {},
   "outputs": [
    {
     "data": {
      "text/plain": [
       "(1.3109241984234394, 0.18988337448195103)"
      ]
     },
     "execution_count": 105,
     "metadata": {},
     "output_type": "execute_result"
    }
   ],
   "source": [
    "z_score, p_value = sm.stats.proportions_ztest([convert_old, convert_new], [n_old, n_new])\n",
    "z_score, p_value"
   ]
  },
  {
   "cell_type": "markdown",
   "metadata": {},
   "source": [
    "n. What do the z-score and p-value you computed in the previous question mean for the conversion rates of the old and new pages?  Do they agree with the findings in parts **j.** and **k.**?"
   ]
  },
  {
   "cell_type": "markdown",
   "metadata": {},
   "source": [
    "**Answer.** after some research about the Z-test and the meaning of Z_score i found that with the confidence interval of 95% the Z_score must exeed 1.96 to reject the null hypothesis\n",
    "\n",
    "So that, with our Z_score of 1.3109 we don't have sufficent evidence to reject the null hypothesis\n",
    "\n",
    "yes those values are aligned with the values in the previous steps"
   ]
  },
  {
   "cell_type": "markdown",
   "metadata": {},
   "source": [
    "<a id='regression'></a>\n",
    "### Part III - A regression approach\n",
    "\n",
    "`1.` In this final part, you will see that the result you acheived in the previous A/B test can also be acheived by performing regression.<br><br>\n",
    "\n",
    "a. Since each row is either a conversion or no conversion, what type of regression should you be performing in this case?"
   ]
  },
  {
   "cell_type": "markdown",
   "metadata": {},
   "source": [
    "**Answer.** we should perform the Logistic regression"
   ]
  },
  {
   "cell_type": "markdown",
   "metadata": {},
   "source": [
    "b. The goal is to use **statsmodels** to fit the regression model you specified in part **a.** to see if there is a significant difference in conversion based on which page a customer receives.  However, you first need to create a column for the intercept, and create a dummy variable column for which page each user received.  Add an **intercept** column, as well as an **ab_page** column, which is 1 when an individual receives the **treatment** and 0 if **control**."
   ]
  },
  {
   "cell_type": "code",
   "execution_count": 107,
   "metadata": {},
   "outputs": [
    {
     "data": {
      "text/html": [
       "<div>\n",
       "<style scoped>\n",
       "    .dataframe tbody tr th:only-of-type {\n",
       "        vertical-align: middle;\n",
       "    }\n",
       "\n",
       "    .dataframe tbody tr th {\n",
       "        vertical-align: top;\n",
       "    }\n",
       "\n",
       "    .dataframe thead th {\n",
       "        text-align: right;\n",
       "    }\n",
       "</style>\n",
       "<table border=\"1\" class=\"dataframe\">\n",
       "  <thead>\n",
       "    <tr style=\"text-align: right;\">\n",
       "      <th></th>\n",
       "      <th>user_id</th>\n",
       "      <th>timestamp</th>\n",
       "      <th>group</th>\n",
       "      <th>landing_page</th>\n",
       "      <th>converted</th>\n",
       "    </tr>\n",
       "  </thead>\n",
       "  <tbody>\n",
       "    <tr>\n",
       "      <th>0</th>\n",
       "      <td>851104</td>\n",
       "      <td>2017-01-21 22:11:48.556739</td>\n",
       "      <td>control</td>\n",
       "      <td>old_page</td>\n",
       "      <td>0</td>\n",
       "    </tr>\n",
       "    <tr>\n",
       "      <th>1</th>\n",
       "      <td>804228</td>\n",
       "      <td>2017-01-12 08:01:45.159739</td>\n",
       "      <td>control</td>\n",
       "      <td>old_page</td>\n",
       "      <td>0</td>\n",
       "    </tr>\n",
       "    <tr>\n",
       "      <th>2</th>\n",
       "      <td>661590</td>\n",
       "      <td>2017-01-11 16:55:06.154213</td>\n",
       "      <td>treatment</td>\n",
       "      <td>new_page</td>\n",
       "      <td>0</td>\n",
       "    </tr>\n",
       "    <tr>\n",
       "      <th>3</th>\n",
       "      <td>853541</td>\n",
       "      <td>2017-01-08 18:28:03.143765</td>\n",
       "      <td>treatment</td>\n",
       "      <td>new_page</td>\n",
       "      <td>0</td>\n",
       "    </tr>\n",
       "    <tr>\n",
       "      <th>4</th>\n",
       "      <td>864975</td>\n",
       "      <td>2017-01-21 01:52:26.210827</td>\n",
       "      <td>control</td>\n",
       "      <td>old_page</td>\n",
       "      <td>1</td>\n",
       "    </tr>\n",
       "  </tbody>\n",
       "</table>\n",
       "</div>"
      ],
      "text/plain": [
       "   user_id                   timestamp      group landing_page  converted\n",
       "0   851104  2017-01-21 22:11:48.556739    control     old_page          0\n",
       "1   804228  2017-01-12 08:01:45.159739    control     old_page          0\n",
       "2   661590  2017-01-11 16:55:06.154213  treatment     new_page          0\n",
       "3   853541  2017-01-08 18:28:03.143765  treatment     new_page          0\n",
       "4   864975  2017-01-21 01:52:26.210827    control     old_page          1"
      ]
     },
     "execution_count": 107,
     "metadata": {},
     "output_type": "execute_result"
    }
   ],
   "source": [
    "df2.head()"
   ]
  },
  {
   "cell_type": "code",
   "execution_count": 106,
   "metadata": {},
   "outputs": [],
   "source": [
    "#importing the required library\n",
    "import statsmodels.api as sm"
   ]
  },
  {
   "cell_type": "code",
   "execution_count": 110,
   "metadata": {},
   "outputs": [
    {
     "data": {
      "text/plain": [
       "array(['control', 'treatment'], dtype=object)"
      ]
     },
     "execution_count": 110,
     "metadata": {},
     "output_type": "execute_result"
    }
   ],
   "source": [
    "#creating the dummy variable\n",
    "df2.group.unique()"
   ]
  },
  {
   "cell_type": "code",
   "execution_count": 114,
   "metadata": {},
   "outputs": [
    {
     "data": {
      "text/html": [
       "<div>\n",
       "<style scoped>\n",
       "    .dataframe tbody tr th:only-of-type {\n",
       "        vertical-align: middle;\n",
       "    }\n",
       "\n",
       "    .dataframe tbody tr th {\n",
       "        vertical-align: top;\n",
       "    }\n",
       "\n",
       "    .dataframe thead th {\n",
       "        text-align: right;\n",
       "    }\n",
       "</style>\n",
       "<table border=\"1\" class=\"dataframe\">\n",
       "  <thead>\n",
       "    <tr style=\"text-align: right;\">\n",
       "      <th></th>\n",
       "      <th>user_id</th>\n",
       "      <th>timestamp</th>\n",
       "      <th>group</th>\n",
       "      <th>landing_page</th>\n",
       "      <th>converted</th>\n",
       "      <th>control</th>\n",
       "      <th>ab_page</th>\n",
       "    </tr>\n",
       "  </thead>\n",
       "  <tbody>\n",
       "    <tr>\n",
       "      <th>0</th>\n",
       "      <td>851104</td>\n",
       "      <td>2017-01-21 22:11:48.556739</td>\n",
       "      <td>control</td>\n",
       "      <td>old_page</td>\n",
       "      <td>0</td>\n",
       "      <td>1</td>\n",
       "      <td>0</td>\n",
       "    </tr>\n",
       "    <tr>\n",
       "      <th>1</th>\n",
       "      <td>804228</td>\n",
       "      <td>2017-01-12 08:01:45.159739</td>\n",
       "      <td>control</td>\n",
       "      <td>old_page</td>\n",
       "      <td>0</td>\n",
       "      <td>1</td>\n",
       "      <td>0</td>\n",
       "    </tr>\n",
       "    <tr>\n",
       "      <th>2</th>\n",
       "      <td>661590</td>\n",
       "      <td>2017-01-11 16:55:06.154213</td>\n",
       "      <td>treatment</td>\n",
       "      <td>new_page</td>\n",
       "      <td>0</td>\n",
       "      <td>0</td>\n",
       "      <td>1</td>\n",
       "    </tr>\n",
       "    <tr>\n",
       "      <th>3</th>\n",
       "      <td>853541</td>\n",
       "      <td>2017-01-08 18:28:03.143765</td>\n",
       "      <td>treatment</td>\n",
       "      <td>new_page</td>\n",
       "      <td>0</td>\n",
       "      <td>0</td>\n",
       "      <td>1</td>\n",
       "    </tr>\n",
       "    <tr>\n",
       "      <th>4</th>\n",
       "      <td>864975</td>\n",
       "      <td>2017-01-21 01:52:26.210827</td>\n",
       "      <td>control</td>\n",
       "      <td>old_page</td>\n",
       "      <td>1</td>\n",
       "      <td>1</td>\n",
       "      <td>0</td>\n",
       "    </tr>\n",
       "  </tbody>\n",
       "</table>\n",
       "</div>"
      ],
      "text/plain": [
       "   user_id                   timestamp      group landing_page  converted  \\\n",
       "0   851104  2017-01-21 22:11:48.556739    control     old_page          0   \n",
       "1   804228  2017-01-12 08:01:45.159739    control     old_page          0   \n",
       "2   661590  2017-01-11 16:55:06.154213  treatment     new_page          0   \n",
       "3   853541  2017-01-08 18:28:03.143765  treatment     new_page          0   \n",
       "4   864975  2017-01-21 01:52:26.210827    control     old_page          1   \n",
       "\n",
       "   control  ab_page  \n",
       "0        1        0  \n",
       "1        1        0  \n",
       "2        0        1  \n",
       "3        0        1  \n",
       "4        1        0  "
      ]
     },
     "execution_count": 114,
     "metadata": {},
     "output_type": "execute_result"
    }
   ],
   "source": [
    "df2[['control', 'treatment']]=pd.get_dummies(df2[\"group\"])\n",
    "\n",
    "#ab_page column, which is 1 when an individual receives the treatment and 0 if control.\n",
    "df2.rename(columns={\"treatment\":\"ab_page\"},inplace=True)\n",
    "df2.head()"
   ]
  },
  {
   "cell_type": "markdown",
   "metadata": {},
   "source": [
    "c. Use **statsmodels** to import your regression model.  Instantiate the model, and fit the model using the two columns you created in part **b.** to predict whether or not an individual converts."
   ]
  },
  {
   "cell_type": "code",
   "execution_count": 119,
   "metadata": {},
   "outputs": [
    {
     "name": "stdout",
     "output_type": "stream",
     "text": [
      "Optimization terminated successfully.\n",
      "         Current function value: 0.366118\n",
      "         Iterations 6\n"
     ]
    }
   ],
   "source": [
    "#creating the intercept column\n",
    "df2[\"intercept\"]=1\n",
    "\n",
    "#applying the logistic regression \n",
    "log_mod=sm.Logit(df2[\"converted\"],df2[[\"intercept\",\"ab_page\"]])\n",
    "results=log_mod.fit()"
   ]
  },
  {
   "cell_type": "markdown",
   "metadata": {},
   "source": [
    "d. Provide the summary of your model below, and use it as necessary to answer the following questions."
   ]
  },
  {
   "cell_type": "code",
   "execution_count": 120,
   "metadata": {},
   "outputs": [
    {
     "data": {
      "text/html": [
       "<table class=\"simpletable\">\n",
       "<caption>Logit Regression Results</caption>\n",
       "<tr>\n",
       "  <th>Dep. Variable:</th>       <td>converted</td>    <th>  No. Observations:  </th>   <td>290584</td>   \n",
       "</tr>\n",
       "<tr>\n",
       "  <th>Model:</th>                 <td>Logit</td>      <th>  Df Residuals:      </th>   <td>290582</td>   \n",
       "</tr>\n",
       "<tr>\n",
       "  <th>Method:</th>                 <td>MLE</td>       <th>  Df Model:          </th>   <td>     1</td>   \n",
       "</tr>\n",
       "<tr>\n",
       "  <th>Date:</th>            <td>Tue, 25 May 2021</td> <th>  Pseudo R-squ.:     </th>  <td>8.077e-06</td> \n",
       "</tr>\n",
       "<tr>\n",
       "  <th>Time:</th>                <td>22:35:01</td>     <th>  Log-Likelihood:    </th> <td>-1.0639e+05</td>\n",
       "</tr>\n",
       "<tr>\n",
       "  <th>converged:</th>             <td>True</td>       <th>  LL-Null:           </th> <td>-1.0639e+05</td>\n",
       "</tr>\n",
       "<tr>\n",
       "  <th>Covariance Type:</th>     <td>nonrobust</td>    <th>  LLR p-value:       </th>   <td>0.1899</td>   \n",
       "</tr>\n",
       "</table>\n",
       "<table class=\"simpletable\">\n",
       "<tr>\n",
       "      <td></td>         <th>coef</th>     <th>std err</th>      <th>z</th>      <th>P>|z|</th>  <th>[0.025</th>    <th>0.975]</th>  \n",
       "</tr>\n",
       "<tr>\n",
       "  <th>intercept</th> <td>   -1.9888</td> <td>    0.008</td> <td> -246.669</td> <td> 0.000</td> <td>   -2.005</td> <td>   -1.973</td>\n",
       "</tr>\n",
       "<tr>\n",
       "  <th>ab_page</th>   <td>   -0.0150</td> <td>    0.011</td> <td>   -1.311</td> <td> 0.190</td> <td>   -0.037</td> <td>    0.007</td>\n",
       "</tr>\n",
       "</table>"
      ],
      "text/plain": [
       "<class 'statsmodels.iolib.summary.Summary'>\n",
       "\"\"\"\n",
       "                           Logit Regression Results                           \n",
       "==============================================================================\n",
       "Dep. Variable:              converted   No. Observations:               290584\n",
       "Model:                          Logit   Df Residuals:                   290582\n",
       "Method:                           MLE   Df Model:                            1\n",
       "Date:                Tue, 25 May 2021   Pseudo R-squ.:               8.077e-06\n",
       "Time:                        22:35:01   Log-Likelihood:            -1.0639e+05\n",
       "converged:                       True   LL-Null:                   -1.0639e+05\n",
       "Covariance Type:            nonrobust   LLR p-value:                    0.1899\n",
       "==============================================================================\n",
       "                 coef    std err          z      P>|z|      [0.025      0.975]\n",
       "------------------------------------------------------------------------------\n",
       "intercept     -1.9888      0.008   -246.669      0.000      -2.005      -1.973\n",
       "ab_page       -0.0150      0.011     -1.311      0.190      -0.037       0.007\n",
       "==============================================================================\n",
       "\"\"\""
      ]
     },
     "execution_count": 120,
     "metadata": {},
     "output_type": "execute_result"
    }
   ],
   "source": [
    "# providing summary for the logistic regression\n",
    "results.summary()"
   ]
  },
  {
   "cell_type": "markdown",
   "metadata": {},
   "source": [
    "e. What is the p-value associated with **ab_page**? Why does it differ from the value you found in **Part II**?<br><br>  **Hint**: What are the null and alternative hypotheses associated with your regression model, and how do they compare to the null and alternative hypotheses in the **Part II**?"
   ]
  },
  {
   "cell_type": "markdown",
   "metadata": {},
   "source": [
    "**Answer.** \n",
    "\n",
    "**null hypothesis:** convertion_rate_new == conversion_rate_old\n",
    "**alternative hypothesis:** conversion_rate_new != conversion_rate_old\n",
    "\n",
    "the p_value associated with the ab_page is 0.190.\n",
    "\n",
    "the reson of the difference in part two and part three is: part two is one side test acourding to the alternative sign >\n",
    "and part three is two side test acourding to the alternative sign !="
   ]
  },
  {
   "cell_type": "markdown",
   "metadata": {},
   "source": [
    "f. Now, you are considering other things that might influence whether or not an individual converts.  Discuss why it is a good idea to consider other factors to add into your regression model.  Are there any disadvantages to adding additional terms into your regression model?"
   ]
  },
  {
   "cell_type": "markdown",
   "metadata": {},
   "source": [
    "**Answer.** \n",
    "it is good to consider other factors because the more factors we analyse the more accurate decission we take\n",
    "\n",
    "the dissadvantage is that the significant bivariate relationships are not always significant in multiple regression. "
   ]
  },
  {
   "cell_type": "markdown",
   "metadata": {},
   "source": [
    "g. Now along with testing if the conversion rate changes for different pages, also add an effect based on which country a user lives. You will need to read in the **countries.csv** dataset and merge together your datasets on the approporiate rows.  [Here](https://pandas.pydata.org/pandas-docs/stable/generated/pandas.DataFrame.join.html) are the docs for joining tables. \n",
    "\n",
    "Does it appear that country had an impact on conversion?  Don't forget to create dummy variables for these country columns - **Hint: You will need two columns for the three dummy variables.** Provide the statistical output as well as a written response to answer this question."
   ]
  },
  {
   "cell_type": "code",
   "execution_count": 122,
   "metadata": {},
   "outputs": [
    {
     "data": {
      "text/html": [
       "<div>\n",
       "<style scoped>\n",
       "    .dataframe tbody tr th:only-of-type {\n",
       "        vertical-align: middle;\n",
       "    }\n",
       "\n",
       "    .dataframe tbody tr th {\n",
       "        vertical-align: top;\n",
       "    }\n",
       "\n",
       "    .dataframe thead th {\n",
       "        text-align: right;\n",
       "    }\n",
       "</style>\n",
       "<table border=\"1\" class=\"dataframe\">\n",
       "  <thead>\n",
       "    <tr style=\"text-align: right;\">\n",
       "      <th></th>\n",
       "      <th>country</th>\n",
       "      <th>timestamp</th>\n",
       "      <th>group</th>\n",
       "      <th>landing_page</th>\n",
       "      <th>converted</th>\n",
       "      <th>control</th>\n",
       "      <th>ab_page</th>\n",
       "      <th>intercept</th>\n",
       "    </tr>\n",
       "    <tr>\n",
       "      <th>user_id</th>\n",
       "      <th></th>\n",
       "      <th></th>\n",
       "      <th></th>\n",
       "      <th></th>\n",
       "      <th></th>\n",
       "      <th></th>\n",
       "      <th></th>\n",
       "      <th></th>\n",
       "    </tr>\n",
       "  </thead>\n",
       "  <tbody>\n",
       "    <tr>\n",
       "      <th>834778</th>\n",
       "      <td>UK</td>\n",
       "      <td>2017-01-14 23:08:43.304998</td>\n",
       "      <td>control</td>\n",
       "      <td>old_page</td>\n",
       "      <td>0</td>\n",
       "      <td>1</td>\n",
       "      <td>0</td>\n",
       "      <td>1</td>\n",
       "    </tr>\n",
       "    <tr>\n",
       "      <th>928468</th>\n",
       "      <td>US</td>\n",
       "      <td>2017-01-23 14:44:16.387854</td>\n",
       "      <td>treatment</td>\n",
       "      <td>new_page</td>\n",
       "      <td>0</td>\n",
       "      <td>0</td>\n",
       "      <td>1</td>\n",
       "      <td>1</td>\n",
       "    </tr>\n",
       "    <tr>\n",
       "      <th>822059</th>\n",
       "      <td>UK</td>\n",
       "      <td>2017-01-16 14:04:14.719771</td>\n",
       "      <td>treatment</td>\n",
       "      <td>new_page</td>\n",
       "      <td>1</td>\n",
       "      <td>0</td>\n",
       "      <td>1</td>\n",
       "      <td>1</td>\n",
       "    </tr>\n",
       "    <tr>\n",
       "      <th>711597</th>\n",
       "      <td>UK</td>\n",
       "      <td>2017-01-22 03:14:24.763511</td>\n",
       "      <td>control</td>\n",
       "      <td>old_page</td>\n",
       "      <td>0</td>\n",
       "      <td>1</td>\n",
       "      <td>0</td>\n",
       "      <td>1</td>\n",
       "    </tr>\n",
       "    <tr>\n",
       "      <th>710616</th>\n",
       "      <td>UK</td>\n",
       "      <td>2017-01-16 13:14:44.000513</td>\n",
       "      <td>treatment</td>\n",
       "      <td>new_page</td>\n",
       "      <td>0</td>\n",
       "      <td>0</td>\n",
       "      <td>1</td>\n",
       "      <td>1</td>\n",
       "    </tr>\n",
       "  </tbody>\n",
       "</table>\n",
       "</div>"
      ],
      "text/plain": [
       "        country                   timestamp      group landing_page  \\\n",
       "user_id                                                               \n",
       "834778       UK  2017-01-14 23:08:43.304998    control     old_page   \n",
       "928468       US  2017-01-23 14:44:16.387854  treatment     new_page   \n",
       "822059       UK  2017-01-16 14:04:14.719771  treatment     new_page   \n",
       "711597       UK  2017-01-22 03:14:24.763511    control     old_page   \n",
       "710616       UK  2017-01-16 13:14:44.000513  treatment     new_page   \n",
       "\n",
       "         converted  control  ab_page  intercept  \n",
       "user_id                                          \n",
       "834778           0        1        0          1  \n",
       "928468           0        0        1          1  \n",
       "822059           1        0        1          1  \n",
       "711597           0        1        0          1  \n",
       "710616           0        0        1          1  "
      ]
     },
     "execution_count": 122,
     "metadata": {},
     "output_type": "execute_result"
    }
   ],
   "source": [
    "countries_df = pd.read_csv('./countries.csv')\n",
    "df_new = countries_df.set_index('user_id').join(df2.set_index('user_id'), how='inner')\n",
    "df_new.head()"
   ]
  },
  {
   "cell_type": "code",
   "execution_count": 123,
   "metadata": {},
   "outputs": [
    {
     "data": {
      "text/plain": [
       "array(['UK', 'US', 'CA'], dtype=object)"
      ]
     },
     "execution_count": 123,
     "metadata": {},
     "output_type": "execute_result"
    }
   ],
   "source": [
    "# knowing the unique values in the country column\n",
    "df_new.country.unique()"
   ]
  },
  {
   "cell_type": "code",
   "execution_count": 125,
   "metadata": {},
   "outputs": [
    {
     "data": {
      "text/html": [
       "<div>\n",
       "<style scoped>\n",
       "    .dataframe tbody tr th:only-of-type {\n",
       "        vertical-align: middle;\n",
       "    }\n",
       "\n",
       "    .dataframe tbody tr th {\n",
       "        vertical-align: top;\n",
       "    }\n",
       "\n",
       "    .dataframe thead th {\n",
       "        text-align: right;\n",
       "    }\n",
       "</style>\n",
       "<table border=\"1\" class=\"dataframe\">\n",
       "  <thead>\n",
       "    <tr style=\"text-align: right;\">\n",
       "      <th></th>\n",
       "      <th>country</th>\n",
       "      <th>timestamp</th>\n",
       "      <th>group</th>\n",
       "      <th>landing_page</th>\n",
       "      <th>converted</th>\n",
       "      <th>control</th>\n",
       "      <th>ab_page</th>\n",
       "      <th>intercept</th>\n",
       "      <th>UK</th>\n",
       "      <th>US</th>\n",
       "      <th>CA</th>\n",
       "    </tr>\n",
       "    <tr>\n",
       "      <th>user_id</th>\n",
       "      <th></th>\n",
       "      <th></th>\n",
       "      <th></th>\n",
       "      <th></th>\n",
       "      <th></th>\n",
       "      <th></th>\n",
       "      <th></th>\n",
       "      <th></th>\n",
       "      <th></th>\n",
       "      <th></th>\n",
       "      <th></th>\n",
       "    </tr>\n",
       "  </thead>\n",
       "  <tbody>\n",
       "    <tr>\n",
       "      <th>834778</th>\n",
       "      <td>UK</td>\n",
       "      <td>2017-01-14 23:08:43.304998</td>\n",
       "      <td>control</td>\n",
       "      <td>old_page</td>\n",
       "      <td>0</td>\n",
       "      <td>1</td>\n",
       "      <td>0</td>\n",
       "      <td>1</td>\n",
       "      <td>0</td>\n",
       "      <td>1</td>\n",
       "      <td>0</td>\n",
       "    </tr>\n",
       "    <tr>\n",
       "      <th>928468</th>\n",
       "      <td>US</td>\n",
       "      <td>2017-01-23 14:44:16.387854</td>\n",
       "      <td>treatment</td>\n",
       "      <td>new_page</td>\n",
       "      <td>0</td>\n",
       "      <td>0</td>\n",
       "      <td>1</td>\n",
       "      <td>1</td>\n",
       "      <td>0</td>\n",
       "      <td>0</td>\n",
       "      <td>1</td>\n",
       "    </tr>\n",
       "    <tr>\n",
       "      <th>822059</th>\n",
       "      <td>UK</td>\n",
       "      <td>2017-01-16 14:04:14.719771</td>\n",
       "      <td>treatment</td>\n",
       "      <td>new_page</td>\n",
       "      <td>1</td>\n",
       "      <td>0</td>\n",
       "      <td>1</td>\n",
       "      <td>1</td>\n",
       "      <td>0</td>\n",
       "      <td>1</td>\n",
       "      <td>0</td>\n",
       "    </tr>\n",
       "    <tr>\n",
       "      <th>711597</th>\n",
       "      <td>UK</td>\n",
       "      <td>2017-01-22 03:14:24.763511</td>\n",
       "      <td>control</td>\n",
       "      <td>old_page</td>\n",
       "      <td>0</td>\n",
       "      <td>1</td>\n",
       "      <td>0</td>\n",
       "      <td>1</td>\n",
       "      <td>0</td>\n",
       "      <td>1</td>\n",
       "      <td>0</td>\n",
       "    </tr>\n",
       "    <tr>\n",
       "      <th>710616</th>\n",
       "      <td>UK</td>\n",
       "      <td>2017-01-16 13:14:44.000513</td>\n",
       "      <td>treatment</td>\n",
       "      <td>new_page</td>\n",
       "      <td>0</td>\n",
       "      <td>0</td>\n",
       "      <td>1</td>\n",
       "      <td>1</td>\n",
       "      <td>0</td>\n",
       "      <td>1</td>\n",
       "      <td>0</td>\n",
       "    </tr>\n",
       "  </tbody>\n",
       "</table>\n",
       "</div>"
      ],
      "text/plain": [
       "        country                   timestamp      group landing_page  \\\n",
       "user_id                                                               \n",
       "834778       UK  2017-01-14 23:08:43.304998    control     old_page   \n",
       "928468       US  2017-01-23 14:44:16.387854  treatment     new_page   \n",
       "822059       UK  2017-01-16 14:04:14.719771  treatment     new_page   \n",
       "711597       UK  2017-01-22 03:14:24.763511    control     old_page   \n",
       "710616       UK  2017-01-16 13:14:44.000513  treatment     new_page   \n",
       "\n",
       "         converted  control  ab_page  intercept  UK  US  CA  \n",
       "user_id                                                      \n",
       "834778           0        1        0          1   0   1   0  \n",
       "928468           0        0        1          1   0   0   1  \n",
       "822059           1        0        1          1   0   1   0  \n",
       "711597           0        1        0          1   0   1   0  \n",
       "710616           0        0        1          1   0   1   0  "
      ]
     },
     "execution_count": 125,
     "metadata": {},
     "output_type": "execute_result"
    }
   ],
   "source": [
    "### Create the necessary dummy variables\n",
    "df_new[['UK', 'US', 'CA']]=pd.get_dummies(df_new[\"country\"])\n",
    "df_new.head()"
   ]
  },
  {
   "cell_type": "code",
   "execution_count": 126,
   "metadata": {},
   "outputs": [
    {
     "name": "stdout",
     "output_type": "stream",
     "text": [
      "Optimization terminated successfully.\n",
      "         Current function value: 0.366113\n",
      "         Iterations 6\n"
     ]
    },
    {
     "data": {
      "text/html": [
       "<table class=\"simpletable\">\n",
       "<caption>Logit Regression Results</caption>\n",
       "<tr>\n",
       "  <th>Dep. Variable:</th>       <td>converted</td>    <th>  No. Observations:  </th>   <td>290584</td>   \n",
       "</tr>\n",
       "<tr>\n",
       "  <th>Model:</th>                 <td>Logit</td>      <th>  Df Residuals:      </th>   <td>290580</td>   \n",
       "</tr>\n",
       "<tr>\n",
       "  <th>Method:</th>                 <td>MLE</td>       <th>  Df Model:          </th>   <td>     3</td>   \n",
       "</tr>\n",
       "<tr>\n",
       "  <th>Date:</th>            <td>Tue, 25 May 2021</td> <th>  Pseudo R-squ.:     </th>  <td>2.323e-05</td> \n",
       "</tr>\n",
       "<tr>\n",
       "  <th>Time:</th>                <td>23:03:02</td>     <th>  Log-Likelihood:    </th> <td>-1.0639e+05</td>\n",
       "</tr>\n",
       "<tr>\n",
       "  <th>converged:</th>             <td>True</td>       <th>  LL-Null:           </th> <td>-1.0639e+05</td>\n",
       "</tr>\n",
       "<tr>\n",
       "  <th>Covariance Type:</th>     <td>nonrobust</td>    <th>  LLR p-value:       </th>   <td>0.1760</td>   \n",
       "</tr>\n",
       "</table>\n",
       "<table class=\"simpletable\">\n",
       "<tr>\n",
       "      <td></td>         <th>coef</th>     <th>std err</th>      <th>z</th>      <th>P>|z|</th>  <th>[0.025</th>    <th>0.975]</th>  \n",
       "</tr>\n",
       "<tr>\n",
       "  <th>intercept</th> <td>   -1.9893</td> <td>    0.009</td> <td> -223.763</td> <td> 0.000</td> <td>   -2.007</td> <td>   -1.972</td>\n",
       "</tr>\n",
       "<tr>\n",
       "  <th>ab_page</th>   <td>   -0.0149</td> <td>    0.011</td> <td>   -1.307</td> <td> 0.191</td> <td>   -0.037</td> <td>    0.007</td>\n",
       "</tr>\n",
       "<tr>\n",
       "  <th>UK</th>        <td>   -0.0408</td> <td>    0.027</td> <td>   -1.516</td> <td> 0.130</td> <td>   -0.093</td> <td>    0.012</td>\n",
       "</tr>\n",
       "<tr>\n",
       "  <th>US</th>        <td>    0.0099</td> <td>    0.013</td> <td>    0.743</td> <td> 0.457</td> <td>   -0.016</td> <td>    0.036</td>\n",
       "</tr>\n",
       "</table>"
      ],
      "text/plain": [
       "<class 'statsmodels.iolib.summary.Summary'>\n",
       "\"\"\"\n",
       "                           Logit Regression Results                           \n",
       "==============================================================================\n",
       "Dep. Variable:              converted   No. Observations:               290584\n",
       "Model:                          Logit   Df Residuals:                   290580\n",
       "Method:                           MLE   Df Model:                            3\n",
       "Date:                Tue, 25 May 2021   Pseudo R-squ.:               2.323e-05\n",
       "Time:                        23:03:02   Log-Likelihood:            -1.0639e+05\n",
       "converged:                       True   LL-Null:                   -1.0639e+05\n",
       "Covariance Type:            nonrobust   LLR p-value:                    0.1760\n",
       "==============================================================================\n",
       "                 coef    std err          z      P>|z|      [0.025      0.975]\n",
       "------------------------------------------------------------------------------\n",
       "intercept     -1.9893      0.009   -223.763      0.000      -2.007      -1.972\n",
       "ab_page       -0.0149      0.011     -1.307      0.191      -0.037       0.007\n",
       "UK            -0.0408      0.027     -1.516      0.130      -0.093       0.012\n",
       "US             0.0099      0.013      0.743      0.457      -0.016       0.036\n",
       "==============================================================================\n",
       "\"\"\""
      ]
     },
     "execution_count": 126,
     "metadata": {},
     "output_type": "execute_result"
    }
   ],
   "source": [
    "df_new[\"intercept\"]=1\n",
    "log_mod=sm.Logit(df_new[\"converted\"],df_new[[\"intercept\",\"ab_page\",\"UK\",\"US\"]])\n",
    "results=log_mod.fit()\n",
    "results.summary()"
   ]
  },
  {
   "cell_type": "markdown",
   "metadata": {},
   "source": [
    "h. Though you have now looked at the individual factors of country and page on conversion, we would now like to look at an interaction between page and country to see if there significant effects on conversion.  Create the necessary additional columns, and fit the new model.  \n",
    "\n",
    "Provide the summary results, and your conclusions based on the results."
   ]
  },
  {
   "cell_type": "code",
   "execution_count": 128,
   "metadata": {},
   "outputs": [
    {
     "name": "stdout",
     "output_type": "stream",
     "text": [
      "Optimization terminated successfully.\n",
      "         Current function value: 0.366109\n",
      "         Iterations 6\n"
     ]
    },
    {
     "data": {
      "text/html": [
       "<table class=\"simpletable\">\n",
       "<caption>Logit Regression Results</caption>\n",
       "<tr>\n",
       "  <th>Dep. Variable:</th>       <td>converted</td>    <th>  No. Observations:  </th>   <td>290584</td>   \n",
       "</tr>\n",
       "<tr>\n",
       "  <th>Model:</th>                 <td>Logit</td>      <th>  Df Residuals:      </th>   <td>290578</td>   \n",
       "</tr>\n",
       "<tr>\n",
       "  <th>Method:</th>                 <td>MLE</td>       <th>  Df Model:          </th>   <td>     5</td>   \n",
       "</tr>\n",
       "<tr>\n",
       "  <th>Date:</th>            <td>Tue, 25 May 2021</td> <th>  Pseudo R-squ.:     </th>  <td>3.482e-05</td> \n",
       "</tr>\n",
       "<tr>\n",
       "  <th>Time:</th>                <td>23:17:41</td>     <th>  Log-Likelihood:    </th> <td>-1.0639e+05</td>\n",
       "</tr>\n",
       "<tr>\n",
       "  <th>converged:</th>             <td>True</td>       <th>  LL-Null:           </th> <td>-1.0639e+05</td>\n",
       "</tr>\n",
       "<tr>\n",
       "  <th>Covariance Type:</th>     <td>nonrobust</td>    <th>  LLR p-value:       </th>   <td>0.1920</td>   \n",
       "</tr>\n",
       "</table>\n",
       "<table class=\"simpletable\">\n",
       "<tr>\n",
       "      <td></td>         <th>coef</th>     <th>std err</th>      <th>z</th>      <th>P>|z|</th>  <th>[0.025</th>    <th>0.975]</th>  \n",
       "</tr>\n",
       "<tr>\n",
       "  <th>intercept</th> <td>   -1.9865</td> <td>    0.010</td> <td> -206.344</td> <td> 0.000</td> <td>   -2.005</td> <td>   -1.968</td>\n",
       "</tr>\n",
       "<tr>\n",
       "  <th>ab_page</th>   <td>   -0.0206</td> <td>    0.014</td> <td>   -1.505</td> <td> 0.132</td> <td>   -0.047</td> <td>    0.006</td>\n",
       "</tr>\n",
       "<tr>\n",
       "  <th>UK</th>        <td>   -0.0175</td> <td>    0.038</td> <td>   -0.465</td> <td> 0.642</td> <td>   -0.091</td> <td>    0.056</td>\n",
       "</tr>\n",
       "<tr>\n",
       "  <th>US</th>        <td>   -0.0057</td> <td>    0.019</td> <td>   -0.306</td> <td> 0.760</td> <td>   -0.043</td> <td>    0.031</td>\n",
       "</tr>\n",
       "<tr>\n",
       "  <th>ab_uk</th>     <td>   -0.0469</td> <td>    0.054</td> <td>   -0.872</td> <td> 0.383</td> <td>   -0.152</td> <td>    0.059</td>\n",
       "</tr>\n",
       "<tr>\n",
       "  <th>ab_us</th>     <td>    0.0314</td> <td>    0.027</td> <td>    1.181</td> <td> 0.238</td> <td>   -0.021</td> <td>    0.084</td>\n",
       "</tr>\n",
       "</table>"
      ],
      "text/plain": [
       "<class 'statsmodels.iolib.summary.Summary'>\n",
       "\"\"\"\n",
       "                           Logit Regression Results                           \n",
       "==============================================================================\n",
       "Dep. Variable:              converted   No. Observations:               290584\n",
       "Model:                          Logit   Df Residuals:                   290578\n",
       "Method:                           MLE   Df Model:                            5\n",
       "Date:                Tue, 25 May 2021   Pseudo R-squ.:               3.482e-05\n",
       "Time:                        23:17:41   Log-Likelihood:            -1.0639e+05\n",
       "converged:                       True   LL-Null:                   -1.0639e+05\n",
       "Covariance Type:            nonrobust   LLR p-value:                    0.1920\n",
       "==============================================================================\n",
       "                 coef    std err          z      P>|z|      [0.025      0.975]\n",
       "------------------------------------------------------------------------------\n",
       "intercept     -1.9865      0.010   -206.344      0.000      -2.005      -1.968\n",
       "ab_page       -0.0206      0.014     -1.505      0.132      -0.047       0.006\n",
       "UK            -0.0175      0.038     -0.465      0.642      -0.091       0.056\n",
       "US            -0.0057      0.019     -0.306      0.760      -0.043       0.031\n",
       "ab_uk         -0.0469      0.054     -0.872      0.383      -0.152       0.059\n",
       "ab_us          0.0314      0.027      1.181      0.238      -0.021       0.084\n",
       "==============================================================================\n",
       "\"\"\""
      ]
     },
     "execution_count": 128,
     "metadata": {},
     "output_type": "execute_result"
    }
   ],
   "source": [
    "### Fit Your Linear Model And Obtain the Results\n",
    "# making interaction between page and country\n",
    "df_new[\"ab_uk\"]=df_new[\"ab_page\"]* df_new[\"UK\"]\n",
    "df_new[\"ab_us\"]=df_new[\"ab_page\"]* df_new[\"US\"]\n",
    "\n",
    "#applying the regression model\n",
    "log_mod=sm.Logit(df_new[\"converted\"],df_new[[\"intercept\",\"ab_page\",\"UK\",\"US\",\"ab_uk\",\"ab_us\"]])\n",
    "results=log_mod.fit()\n",
    "results.summary()"
   ]
  },
  {
   "cell_type": "markdown",
   "metadata": {},
   "source": [
    "### Summary and conclusion on regression \n",
    "1. part ΙΙ (A/B test) results that p_value is more than 0.05\n",
    "2. part ΙΙΙ Regression show that the p_vlaue is high and Z_score is less than 1.96\n",
    "3. there is no high effect on the regression based on the country"
   ]
  },
  {
   "cell_type": "markdown",
   "metadata": {},
   "source": [
    "<a id='conclusions'></a>\n",
    "## Conclusions\n",
    "\n",
    " there is no sufficient evidence told us that the new page has more conversion rate than the old page\n",
 
    
